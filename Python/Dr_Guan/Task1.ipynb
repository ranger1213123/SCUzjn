{
 "cells": [
  {
   "metadata": {},
   "cell_type": "markdown",
   "source": [
    "# 作业1\n",
    "\n",
    "以上证指数的收盘价作为分析指标\n",
    "\n",
    "<br>\n",
    "\n",
    "## 收集数据\n",
    "这里定义getData方法获取上证指数，同时将数据集划分为训练集和测试集分开记录"
   ],
   "id": "d6040ecef0bc7f64"
  },
  {
   "metadata": {},
   "cell_type": "code",
   "outputs": [],
   "execution_count": null,
   "source": [
    "import akshare as ak\n",
    "import pandas as pd\n",
    "\n",
    "def getData():\n",
    "    dailyTrain_df = ak.stock_zh_index_daily_em(symbol=\"sh000001\", start_date=\"20000101\", end_date=\"20181231\")\n",
    "    dailyTest_df = ak.stock_zh_index_daily_em(symbol=\"sh000001\", start_date=\"20190101\", end_date=\"20191231\")\n",
    "    \"\"\"\n",
    "    训练数据\n",
    "    \"\"\"\n",
    "    # 保存为文本&csv\n",
    "    with open(\"train.txt\", \"w\", encoding=\"utf-8\") as f:\n",
    "        f.write(dailyTrain_df.to_string(index=False))\n",
    "    dailyTrain_df.to_csv(\"train.csv\", index=False, encoding=\"utf-8\")\n",
    "    \"\"\"\n",
    "    测试数据\n",
    "    \"\"\"\n",
    "    with open(\"test.txt\", \"w\", encoding=\"utf-8\") as f:\n",
    "        f.write(dailyTest_df.to_string(index=False))\n",
    "    dailyTest_df.to_csv(\"test.csv\", index=False, encoding=\"utf-8\")\n",
    "    \n",
    "if __name__ == \"__main__\":\n",
    "    getData()"
   ],
   "id": "727a8a96d62b463c"
  },
  {
   "metadata": {},
   "cell_type": "markdown",
   "source": [
    "## 数据离散化\n",
    "\n",
    "清理出涨跌幅在-5%到5%的数据并重新保存数据"
   ],
   "id": "a23d118ace8ca6fd"
  },
  {
   "metadata": {},
   "cell_type": "code",
   "outputs": [],
   "execution_count": null,
   "source": [
    "# 实现离散化\n",
    "def cleanData(path):\n",
    "    df = pd.read_csv(path)\n",
    "    # 对应前一次的收盘数据\n",
    "    df['prev_close'] = df['close'].shift(1)\n",
    "    # 百分比计算\n",
    "    df['pct_change'] = (df['close'] - df['prev_close'])/df['close']\n",
    "    # 筛选\n",
    "    filtered_df = df[(-0.05 <= df['pct_change']) & (df['pct_change'] <= 0.05)]\n",
    "    result_df = filtered_df[['date', 'close', 'pct_change']]\n",
    "    result_df.to_csv(\"cleaned \" + path, index=False)\n",
    "\n",
    "if __name__ == '__main__':\n",
    "    cleanData(\"train.csv\")\n",
    "    cleanData(\"test.csv\")"
   ],
   "id": "5c5f86e939e3d8f"
  },
  {
   "metadata": {},
   "cell_type": "markdown",
   "source": [
    "## 频率统计\n",
    "\n",
    "按照涨跌幅数据分割为5个状态 ： 大跌， 下跌， 震荡， 上涨， 大涨\n",
    "\n",
    "对应的幅度为 [-5%, -3%), [-3%, -1%), [-1%, 1%), [1%, 3%), [3%, 5%]\n",
    "\n",
    "统计出对应的频率，并得到转移矩阵，这里使用了热力图去展示结果"
   ],
   "id": "7c5ec3eba393af0f"
  },
  {
   "metadata": {
    "jupyter": {
     "is_executing": true
    }
   },
   "cell_type": "code",
   "source": [
    "import matplotlib as plt\n",
    "import seaborn as sns\n",
    "def status():\n",
    "        df = pd.read_csv('Dr_Guan/cleaned_train.csv')\n",
    "        bins = [-0.05, -0.03, -0.01, 0.01, 0.03, 0.05]\n",
    "        labels = [\"大跌\",\"下跌\", \"震荡\", \"上涨\", \"大涨\"]\n",
    "        # 打标签\n",
    "        df['state'] = pd.cut(df['pct_change'], bins=bins, labels=labels)\n",
    "        # 构造状态转移序列（前一状态 -> 当前状态）\n",
    "        df['prev_state'] = df['state'].shift(1)\n",
    "        # 去掉shift影响的第一行\n",
    "        df_cleaner = df.dropna(subset=['state', 'prev_state'])\n",
    "        # 构建状态转移计数矩阵\n",
    "        transition_counts = pd.crosstab(df_cleaner['prev_state'], df_cleaner['state'])\n",
    "        # 构建转移概率矩阵（按行归一化）\n",
    "        global  transition_matrix\n",
    "        transition_matrix = transition_counts.div(transition_counts.sum(axis=1), axis=0)\n",
    "        # 展示转移概率矩阵\n",
    "        plt.figure(figsize=(8, 6))\n",
    "        sns.heatmap(transition_matrix, annot=True, fmt=\".2f\", cmap=\"Blues\", cbar=True, linewidths=0.5)\n",
    "        plt.title(\"马尔可夫链状态转移概率矩阵\", fontsize=14)\n",
    "        plt.xlabel(\"当前状态\", fontsize=12)\n",
    "        plt.ylabel(\"前一状态\", fontsize=12)\n",
    "\n",
    "        plt.tight_layout()\n",
    "        plt.show()\n",
    "if __name__ == '__main__':\n",
    "    status()"
   ],
   "id": "bbf0d1d80ac904c9",
   "outputs": [],
   "execution_count": null
  },
  {
   "metadata": {},
   "cell_type": "markdown",
   "source": "最终可以得到转移矩阵如上图所示",
   "id": "291289cc04846e76"
  },
  {
   "metadata": {},
   "cell_type": "markdown",
   "source": [
    "## 转移矩阵实验\n",
    "\n",
    "输出对应的转移矩阵数据，观察其是否收敛，多久收敛，这里使用迭代法去完成"
   ],
   "id": "b187f1592a358414"
  },
  {
   "metadata": {},
   "cell_type": "code",
   "outputs": [],
   "execution_count": null,
   "source": [
    "    import numpy as np\n",
    "    def check():\n",
    "        \"\"\"\n",
    "        实现收敛分析，这里采用迭代法\n",
    "        \"\"\"\n",
    "        T = transition_matrix.values\n",
    "        # 设置初始状态\n",
    "        v = np.zeros(T.shape[0])\n",
    "        v[0] = 1.0\n",
    "        tolerance = 1e-6\n",
    "        max_steps = 500\n",
    "        history = [v.copy()]\n",
    "\n",
    "        for i in range(max_steps):\n",
    "            v_next = v @ T\n",
    "            history.append(v_next)\n",
    "            if np.allclose(v_next, v, atol=tolerance):\n",
    "                print(f\"收敛于第 {i + 1} 步\")\n",
    "                break\n",
    "            v = v_next\n",
    "        else:\n",
    "            print(\"未收敛\")\n",
    "        # 打印稳态分布\n",
    "        print(\"稳态分布向量：\", v_next.round(4))\n",
    "        history = np.array(history)\n",
    "        plt.figure(figsize=(10, 6))\n",
    "        for i in range(history.shape[1]):\n",
    "            plt.plot(history[:, i], label=f\"状态 {transition_matrix.columns[i]}\")\n",
    "\n",
    "        plt.xlabel(\"步数\")\n",
    "        plt.ylabel(\"状态概率\")\n",
    "        plt.title(\"马尔可夫链状态概率收敛过程\")\n",
    "        plt.legend()\n",
    "        plt.grid()\n",
    "        plt.tight_layout()\n",
    "        plt.show()"
   ],
   "id": "c85f9a66312342a3"
  },
  {
   "metadata": {},
   "cell_type": "markdown",
   "source": [
    "最终得到的结果如下：\n",
    "\n",
    "收敛于第 7 步\n",
    "\n",
    "稳态分布向量： [0.0227 0.1485 0.6314 0.1736 0.0238]"
   ],
   "id": "f5fe5310fd940abf"
  },
  {
   "metadata": {},
   "cell_type": "markdown",
   "source": [
    "## 改变参数看对比\n",
    "\n",
    "1.  改变时间结点\n",
    "2.  改变状态定义"
   ],
   "id": "9c970b57171d0da"
  }
 ],
 "metadata": {
  "kernelspec": {
   "display_name": "Python 3",
   "language": "python",
   "name": "python3"
  },
  "language_info": {
   "codemirror_mode": {
    "name": "ipython",
    "version": 2
   },
   "file_extension": ".py",
   "mimetype": "text/x-python",
   "name": "python",
   "nbconvert_exporter": "python",
   "pygments_lexer": "ipython2",
   "version": "2.7.6"
  }
 },
 "nbformat": 4,
 "nbformat_minor": 5
}
